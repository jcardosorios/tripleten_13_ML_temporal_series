{
 "cells": [
  {
   "cell_type": "markdown",
   "id": "355507dd",
   "metadata": {},
   "source": [
    "# 3.0 Modelado y Predicción de Demanda\n",
    "\n",
    "En este notebook, entrenaremos varios de Machine Learning para predecir la demanda de taxis. Utilizaremos las características creadas en el notebook anterior y evaluaremos el rendimiento de los modelos con la métrica RMSE."
   ]
  },
  {
   "cell_type": "code",
   "execution_count": 1,
   "id": "b804f947",
   "metadata": {},
   "outputs": [],
   "source": [
    "from pathlib import Path\n",
    "import sys\n",
    "\n",
    "current_working_directory = Path.cwd()\n",
    "project_root = current_working_directory.parent\n",
    "if str(project_root) not in sys.path:\n",
    "    sys.path.insert(0, str(project_root))"
   ]
  },
  {
   "cell_type": "code",
   "execution_count": 2,
   "id": "6b9c6fbf",
   "metadata": {},
   "outputs": [],
   "source": [
    "# Bibliotecas necesarias\n",
    "import pandas as pd\n",
    "import os\n",
    "\n",
    "from src.models.train_model import train_best_model\n",
    "from src.utils.helpers import print_rmse"
   ]
  },
  {
   "cell_type": "markdown",
   "id": "d2e9fdcf",
   "metadata": {},
   "source": [
    "### Carga de Datos con Características\n",
    "\n",
    "Cargamos el DataFrame que ya procesado."
   ]
  },
  {
   "cell_type": "code",
   "execution_count": 5,
   "id": "ab4c62b7",
   "metadata": {},
   "outputs": [
    {
     "name": "stdout",
     "output_type": "stream",
     "text": [
      "Datos cargados desde: ../data/processed/features_taxi_data.parquet\n",
      "                     num_orders  year  month  day  dayofweek  hour  lag_1  \\\n",
      "datetime                                                                    \n",
      "2018-03-01 00:00:00         124  2018      3    1          3     0    NaN   \n",
      "2018-03-01 01:00:00          85  2018      3    1          3     1  124.0   \n",
      "2018-03-01 02:00:00          71  2018      3    1          3     2   85.0   \n",
      "2018-03-01 03:00:00          66  2018      3    1          3     3   71.0   \n",
      "2018-03-01 04:00:00          43  2018      3    1          3     4   66.0   \n",
      "\n",
      "                     lag_2  lag_3  lag_4  ...  lag_16  lag_17  lag_18  lag_19  \\\n",
      "datetime                                  ...                                   \n",
      "2018-03-01 00:00:00    NaN    NaN    NaN  ...     NaN     NaN     NaN     NaN   \n",
      "2018-03-01 01:00:00    NaN    NaN    NaN  ...     NaN     NaN     NaN     NaN   \n",
      "2018-03-01 02:00:00  124.0    NaN    NaN  ...     NaN     NaN     NaN     NaN   \n",
      "2018-03-01 03:00:00   85.0  124.0    NaN  ...     NaN     NaN     NaN     NaN   \n",
      "2018-03-01 04:00:00   71.0   85.0  124.0  ...     NaN     NaN     NaN     NaN   \n",
      "\n",
      "                     lag_20  lag_21  lag_22  lag_23  lag_24  rolling_mean  \n",
      "datetime                                                                   \n",
      "2018-03-01 00:00:00     NaN     NaN     NaN     NaN     NaN           NaN  \n",
      "2018-03-01 01:00:00     NaN     NaN     NaN     NaN     NaN           NaN  \n",
      "2018-03-01 02:00:00     NaN     NaN     NaN     NaN     NaN           NaN  \n",
      "2018-03-01 03:00:00     NaN     NaN     NaN     NaN     NaN           NaN  \n",
      "2018-03-01 04:00:00     NaN     NaN     NaN     NaN     NaN           NaN  \n",
      "\n",
      "[5 rows x 31 columns]\n"
     ]
    }
   ],
   "source": [
    "features_data_path = '../data/processed/features_taxi_data.parquet'\n",
    "\n",
    "if not os.path.exists(features_data_path):\n",
    "    print(f\"Error: No se encontró el archivo de características en {features_data_path}.\")\n",
    "    print(\"Por favor, ejecuta el notebook '2.0-ingenieria-caracteristicas-preparacion.ipynb' primero.\")\n",
    "    df_features = None\n",
    "else:\n",
    "    df_features = pd.read_parquet(features_data_path)\n",
    "    print(f\"Datos cargados desde: {features_data_path}\")\n",
    "    print(df_features.head())"
   ]
  },
  {
   "cell_type": "markdown",
   "id": "e84bc0cf",
   "metadata": {},
   "source": [
    "### Entrenamiento del Modelo\n",
    "\n",
    "Entrenaremos el modelo utilizando la función `train_best_model` que encapsula la división de datos, la búsqueda de hiperparámetros, y el entrenamiento para un modelo entrando con LightGBM. El modelo entrenado será guardado."
   ]
  },
  {
   "cell_type": "code",
   "execution_count": 6,
   "id": "4869c1c9",
   "metadata": {},
   "outputs": [
    {
     "name": "stdout",
     "output_type": "stream",
     "text": [
      "Tamaños conjunto de entrenamiento: (3952, 30)\n",
      "Tamaños conjunto de prueba: (440, 30)\n",
      "\n",
      "Buscando los mejores hiperparámetros para LightGBM...\n",
      "Mejores hiperparámetros encontrados:\n",
      "{'learning_rate': 0.1, 'max_depth': 10, 'n_estimators': 100, 'num_leaves': 10}\n",
      "\n",
      "Entrenando el modelo final con los mejores hiperparámetros...\n",
      "Tiempo de entrenamiento: 0.0366 s\n",
      "Tiempo de predicción: 0.0023 s\n",
      "Modelo entrenado guardado en: ../models/best_taxi_demand_model.pkl\n",
      "Evaluación del modelo final en el conjunto de pruebas:\n",
      "El RMSE calculado es: 41.21\n",
      "El RMSE en el conjunto de prueba es: 41.21\n",
      "¡El modelo cumple el requisito de RMSE (<= 48)!\n",
      "Predicciones del conjunto de prueba guardadas en: data/processed/test_predictions.parquet\n"
     ]
    }
   ],
   "source": [
    "if df_features is not None:\n",
    "    TARGET_COLUMN = 'num_orders'\n",
    "    MODEL_SAVE_PATH = '../models/best_taxi_demand_model.pkl'\n",
    "    TEST_SIZE = 0.1\n",
    "    STATE = 31415\n",
    "\n",
    "    # Entrenamiento del modelo\n",
    "    best_model, features_test, target_test, predictions = train_best_model(\n",
    "        df_features.copy(),\n",
    "        TARGET_COLUMN,\n",
    "        test_size=TEST_SIZE,\n",
    "        state=STATE,\n",
    "        model_save_path=MODEL_SAVE_PATH\n",
    "    )\n",
    "\n",
    "    print('Evaluación del modelo final en el conjunto de pruebas:')\n",
    "    rmse_test = print_rmse(target_test, predictions['test'])\n",
    "\n",
    "    print(f\"El RMSE en el conjunto de prueba es: {round(rmse_test, 2)}\")\n",
    "    if rmse_test <= 48:\n",
    "        print(\"¡El modelo cumple el requisito de RMSE (<= 48)!\")\n",
    "    else:\n",
    "        print(\"El modelo NO cumple el requisito de RMSE (debe ser <= 48). Se necesita optimización adicional.\")\n",
    "\n",
    "    predictions_test_df = pd.DataFrame({\n",
    "        'real': target_test,\n",
    "        'predicted': predictions['test']\n",
    "    })\n",
    "    predictions_test_df.to_parquet('../data/processed/test_predictions.parquet', index=True)\n",
    "    print(f\"Predicciones del conjunto de prueba guardadas en: data/processed/test_predictions.parquet\")\n",
    "\n",
    "else:\n",
    "    print(\"No se pudo entrenar el modelo porque los datos de características no se cargaron.\")\n"
   ]
  },
  {
   "cell_type": "markdown",
   "id": "78912754",
   "metadata": {},
   "source": []
  }
 ],
 "metadata": {
  "kernelspec": {
   "display_name": ".venv",
   "language": "python",
   "name": "python3"
  },
  "language_info": {
   "codemirror_mode": {
    "name": "ipython",
    "version": 3
   },
   "file_extension": ".py",
   "mimetype": "text/x-python",
   "name": "python",
   "nbconvert_exporter": "python",
   "pygments_lexer": "ipython3",
   "version": "3.11.9"
  }
 },
 "nbformat": 4,
 "nbformat_minor": 5
}
