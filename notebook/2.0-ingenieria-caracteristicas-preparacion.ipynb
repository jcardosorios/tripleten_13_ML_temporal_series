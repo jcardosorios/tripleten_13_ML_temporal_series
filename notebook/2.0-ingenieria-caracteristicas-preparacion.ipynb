{
 "cells": [
  {
   "cell_type": "markdown",
   "id": "259c30ab",
   "metadata": {},
   "source": [
    "# 2.0 Ingeniería de Características y Preparación de Datos"
   ]
  },
  {
   "cell_type": "code",
   "execution_count": 2,
   "id": "87775fd9",
   "metadata": {},
   "outputs": [],
   "source": [
    "from pathlib import Path\n",
    "import sys\n",
    "\n",
    "current_working_directory = Path.cwd()\n",
    "project_root = current_working_directory.parent\n",
    "if str(project_root) not in sys.path:\n",
    "    sys.path.insert(0, str(project_root))"
   ]
  },
  {
   "cell_type": "code",
   "execution_count": 3,
   "id": "2ff2dd20",
   "metadata": {},
   "outputs": [],
   "source": [
    "# Bibliotecas necesarias\n",
    "import pandas as pd\n",
    "import os\n",
    "\n",
    "from src.features.build_features import make_features"
   ]
  },
  {
   "cell_type": "markdown",
   "id": "02114be9",
   "metadata": {},
   "source": [
    "### Carga de Datos Preprocesados"
   ]
  },
  {
   "cell_type": "code",
   "execution_count": 4,
   "id": "0091b954",
   "metadata": {},
   "outputs": [
    {
     "name": "stdout",
     "output_type": "stream",
     "text": [
      "Datos cargados desde: ../data/processed/resampled_taxi_data.parquet\n",
      "                     num_orders\n",
      "datetime                       \n",
      "2018-03-01 00:00:00         124\n",
      "2018-03-01 01:00:00          85\n",
      "2018-03-01 02:00:00          71\n",
      "2018-03-01 03:00:00          66\n",
      "2018-03-01 04:00:00          43\n"
     ]
    }
   ],
   "source": [
    "processed_data_path = '../data/processed/resampled_taxi_data.parquet'\n",
    "\n",
    "if not os.path.exists(processed_data_path):\n",
    "    print(f\"Error: No se encontró el archivo de datos procesados en {processed_data_path}.\")\n",
    "    print(\"Por favor, ejecuta el notebook '1.0-exploracion-inicial-demanda.ipynb' primero para generar este archivo.\")\n",
    "    df_resampled = None\n",
    "else:\n",
    "    df_resampled = pd.read_parquet(processed_data_path)\n",
    "    print(f\"Datos cargados desde: {processed_data_path}\")\n",
    "    print(df_resampled.head())"
   ]
  },
  {
   "cell_type": "markdown",
   "id": "7522332b",
   "metadata": {},
   "source": [
    "### Creación de Características Temporales y Lags"
   ]
  },
  {
   "cell_type": "markdown",
   "id": "8e4c48e7",
   "metadata": {},
   "source": [
    "Basándonos en la estacionalidad diaria y semanal observada, crearemos las siguientes características:\n",
    "* **Componentes de fecha y hora:** Año, mes, día, día de la semana, hora.\n",
    "* **Lags:** Valores pasados del número de pedidos, que son cruciales para las series de tiempo. Un `max_lag` de 24 capturará el patrón del día anterior.\n",
    "* **Media móvil:** Una media móvil del número de pedidos en un período anterior, para suavizar la tendencia y capturar el comportamiento reciente."
   ]
  },
  {
   "cell_type": "code",
   "execution_count": 5,
   "id": "44289070",
   "metadata": {},
   "outputs": [],
   "source": [
    "# Parámetros para la creación de características\n",
    "## Como existe cierto nivel de estacionalidad diaria el max_lag que se utilizará será de 24\n",
    "## y una media movil de 24 tambien, para que suavice la tendencia diaria.\n",
    "MAX_LAG = 24\n",
    "ROLLING_MEAN_SIZE = 24"
   ]
  },
  {
   "cell_type": "code",
   "execution_count": 6,
   "id": "801bc8bf",
   "metadata": {},
   "outputs": [
    {
     "name": "stdout",
     "output_type": "stream",
     "text": [
      "Tamaño del DataFrame con características: (4416, 31)\n",
      "                     num_orders  year  month  day  dayofweek  hour  lag_1  \\\n",
      "datetime                                                                    \n",
      "2018-03-01 00:00:00         124  2018      3    1          3     0    NaN   \n",
      "2018-03-01 01:00:00          85  2018      3    1          3     1  124.0   \n",
      "2018-03-01 02:00:00          71  2018      3    1          3     2   85.0   \n",
      "2018-03-01 03:00:00          66  2018      3    1          3     3   71.0   \n",
      "2018-03-01 04:00:00          43  2018      3    1          3     4   66.0   \n",
      "\n",
      "                     lag_2  lag_3  lag_4  ...  lag_16  lag_17  lag_18  lag_19  \\\n",
      "datetime                                  ...                                   \n",
      "2018-03-01 00:00:00    NaN    NaN    NaN  ...     NaN     NaN     NaN     NaN   \n",
      "2018-03-01 01:00:00    NaN    NaN    NaN  ...     NaN     NaN     NaN     NaN   \n",
      "2018-03-01 02:00:00  124.0    NaN    NaN  ...     NaN     NaN     NaN     NaN   \n",
      "2018-03-01 03:00:00   85.0  124.0    NaN  ...     NaN     NaN     NaN     NaN   \n",
      "2018-03-01 04:00:00   71.0   85.0  124.0  ...     NaN     NaN     NaN     NaN   \n",
      "\n",
      "                     lag_20  lag_21  lag_22  lag_23  lag_24  rolling_mean  \n",
      "datetime                                                                   \n",
      "2018-03-01 00:00:00     NaN     NaN     NaN     NaN     NaN           NaN  \n",
      "2018-03-01 01:00:00     NaN     NaN     NaN     NaN     NaN           NaN  \n",
      "2018-03-01 02:00:00     NaN     NaN     NaN     NaN     NaN           NaN  \n",
      "2018-03-01 03:00:00     NaN     NaN     NaN     NaN     NaN           NaN  \n",
      "2018-03-01 04:00:00     NaN     NaN     NaN     NaN     NaN           NaN  \n",
      "\n",
      "[5 rows x 31 columns]\n",
      "\n",
      "DataFrame con características guardado en: ../data/processed/features_taxi_data.parquet\n"
     ]
    }
   ],
   "source": [
    "if df_resampled is not None:\n",
    "    # Preparando características\n",
    "    df_features = make_features(df_resampled.copy(), MAX_LAG, ROLLING_MEAN_SIZE)\n",
    "    print(f'Tamaño del DataFrame con características: {df_features.shape}')\n",
    "    print(df_features.head())\n",
    "\n",
    "    features_data_path = '../data/processed/features_taxi_data.parquet'\n",
    "    df_features.to_parquet(features_data_path, index=True)\n",
    "    print(f\"\\nDataFrame con características guardado en: {features_data_path}\")\n",
    "else:\n",
    "    df_features = None\n",
    "    print(\"No se pudo crear el DataFrame de características porque los datos procesados no se cargaron.\")\n"
   ]
  },
  {
   "cell_type": "markdown",
   "id": "91bc54bb",
   "metadata": {},
   "source": [
    "## Conclusión de Ingeniería de Características\n",
    "\n",
    "En este notebook, transformamos nuestro DataFrame remuestreado en un conjunto de datos listo para el modelado, agregando características temporales y variables de serie de tiempo que son esenciales para la predicción de la demanda de taxis. Los datos han sido guardados en `data/processed/features_taxi_data.parquet`."
   ]
  }
 ],
 "metadata": {
  "kernelspec": {
   "display_name": ".venv",
   "language": "python",
   "name": "python3"
  },
  "language_info": {
   "codemirror_mode": {
    "name": "ipython",
    "version": 3
   },
   "file_extension": ".py",
   "mimetype": "text/x-python",
   "name": "python",
   "nbconvert_exporter": "python",
   "pygments_lexer": "ipython3",
   "version": "3.11.9"
  }
 },
 "nbformat": 4,
 "nbformat_minor": 5
}
